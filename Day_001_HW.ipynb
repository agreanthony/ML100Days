{
 "cells": [
  {
   "cell_type": "markdown",
   "metadata": {},
   "source": [
    "作業目標:\n",
    "在array中，可以靈活應用索引幫助資料擷取\n",
    "作業重點:\n",
    "陣列的索引、切片、以及屬性，皆需要注意使用方式\n",
    "陣列之中索引式由0開始請同學注意\n",
    "\n",
    "題目:\n",
    "1.生成一個等差數列，首數為0，尾數為20，公差為1的數列。\n",
    "2.呈上題，將以上數列取出偶數。\n",
    "3.呈1題，將數列取出3的倍數。"
   ]
  },
  {
   "cell_type": "code",
   "execution_count": 8,
   "metadata": {
    "ExecuteTime": {
     "end_time": "2021-02-08T04:07:25.813380Z",
     "start_time": "2021-02-08T04:07:25.807614Z"
    }
   },
   "outputs": [],
   "source": [
    "import numpy as np"
   ]
  },
  {
   "cell_type": "code",
   "execution_count": 9,
   "metadata": {
    "ExecuteTime": {
     "end_time": "2021-02-08T04:07:25.865227Z",
     "start_time": "2021-02-08T04:07:25.816862Z"
    }
   },
   "outputs": [],
   "source": [
    "#1.生成一個等差數列，首數為0，尾數為20，公差為1的數列。\n",
    "array1 = np.arange(0, 21, 1)"
   ]
  },
  {
   "cell_type": "code",
   "execution_count": 10,
   "metadata": {
    "ExecuteTime": {
     "end_time": "2021-02-08T04:07:25.874070Z",
     "start_time": "2021-02-08T04:07:25.868107Z"
    }
   },
   "outputs": [
    {
     "data": {
      "text/plain": [
       "array([ 0,  2,  4,  6,  8, 10, 12, 14, 16, 18, 20])"
      ]
     },
     "execution_count": 10,
     "metadata": {},
     "output_type": "execute_result"
    }
   ],
   "source": [
    "#2.呈上題，將以上數列取出偶數。\n",
    "array2 = array1[0:: 2]\n",
    "array2"
   ]
  },
  {
   "cell_type": "code",
   "execution_count": 11,
   "metadata": {
    "ExecuteTime": {
     "end_time": "2021-02-08T04:07:25.882049Z",
     "start_time": "2021-02-08T04:07:25.876071Z"
    }
   },
   "outputs": [
    {
     "data": {
      "text/plain": [
       "array([ 3,  6,  9, 12, 15, 18])"
      ]
     },
     "execution_count": 11,
     "metadata": {},
     "output_type": "execute_result"
    }
   ],
   "source": [
    "#3.呈1題，將數列取出3的倍數。\n",
    "array3 = array1[3:: 3]\n",
    "array3"
   ]
  }
 ],
 "metadata": {
  "kernelspec": {
   "display_name": "Python 3",
   "language": "python",
   "name": "python3"
  },
  "language_info": {
   "codemirror_mode": {
    "name": "ipython",
    "version": 3
   },
   "file_extension": ".py",
   "mimetype": "text/x-python",
   "name": "python",
   "nbconvert_exporter": "python",
   "pygments_lexer": "ipython3",
   "version": "3.7.6"
  }
 },
 "nbformat": 4,
 "nbformat_minor": 4
}
