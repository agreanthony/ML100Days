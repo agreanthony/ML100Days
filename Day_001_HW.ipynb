{
 "cells": [
  {
   "cell_type": "markdown",
   "metadata": {},
   "source": [
    "作業目標:\n",
    "在array中，可以靈活應用索引幫助資料擷取\n",
    "作業重點:\n",
    "陣列的索引、切片、以及屬性，皆需要注意使用方式\n",
    "陣列之中索引式由0開始請同學注意\n",
    "\n",
    "題目:\n",
    "1.生成一個等差數列，首數為0，尾數為20，公差為1的數列。\n",
    "2.呈上題，將以上數列取出偶數。\n",
    "3.呈1題，將數列取出3的倍數。"
   ]
  },
  {
   "cell_type": "code",
   "execution_count": 3,
   "metadata": {
    "ExecuteTime": {
     "end_time": "2021-02-08T03:52:54.913872Z",
     "start_time": "2021-02-08T03:52:54.795837Z"
    }
   },
   "outputs": [],
   "source": [
    "import numpy as np"
   ]
  },
  {
   "cell_type": "code",
   "execution_count": 4,
   "metadata": {
    "ExecuteTime": {
     "end_time": "2021-02-08T03:53:35.112087Z",
     "start_time": "2021-02-08T03:53:35.107800Z"
    }
   },
   "outputs": [],
   "source": [
    "#1.生成一個等差數列，首數為0，尾數為20，公差為1的數列。\n",
    "array1 = np.arange(1, 21, 1)"
   ]
  },
  {
   "cell_type": "code",
   "execution_count": 5,
   "metadata": {
    "ExecuteTime": {
     "end_time": "2021-02-08T03:54:05.218644Z",
     "start_time": "2021-02-08T03:54:05.203154Z"
    }
   },
   "outputs": [
    {
     "data": {
      "text/plain": [
       "array([ 2,  4,  6,  8, 10, 12, 14, 16, 18])"
      ]
     },
     "execution_count": 5,
     "metadata": {},
     "output_type": "execute_result"
    }
   ],
   "source": [
    "#2.呈上題，將以上數列取出偶數。\n",
    "array2 = array1[1: -1: 2]\n",
    "array2"
   ]
  },
  {
   "cell_type": "code",
   "execution_count": 7,
   "metadata": {
    "ExecuteTime": {
     "end_time": "2021-02-08T03:54:41.982908Z",
     "start_time": "2021-02-08T03:54:41.973419Z"
    }
   },
   "outputs": [
    {
     "data": {
      "text/plain": [
       "array([ 3,  6,  9, 12, 15, 18])"
      ]
     },
     "execution_count": 7,
     "metadata": {},
     "output_type": "execute_result"
    }
   ],
   "source": [
    "#3.呈1題，將數列取出3的倍數。\n",
    "array3 = array1[2: -1: 3]\n",
    "array3"
   ]
  }
 ],
 "metadata": {
  "kernelspec": {
   "display_name": "Python 3",
   "language": "python",
   "name": "python3"
  },
  "language_info": {
   "codemirror_mode": {
    "name": "ipython",
    "version": 3
   },
   "file_extension": ".py",
   "mimetype": "text/x-python",
   "name": "python",
   "nbconvert_exporter": "python",
   "pygments_lexer": "ipython3",
   "version": "3.7.6"
  }
 },
 "nbformat": 4,
 "nbformat_minor": 4
}
